{
 "cells": [
  {
   "cell_type": "code",
   "execution_count": 155,
   "id": "c2905b39",
   "metadata": {},
   "outputs": [
    {
     "name": "stderr",
     "output_type": "stream",
     "text": [
      "[nltk_data] Downloading package stopwords to\n",
      "[nltk_data]     /Users/henry.hartzler/nltk_data...\n",
      "[nltk_data]   Package stopwords is already up-to-date!\n",
      "[nltk_data] Downloading package punkt to\n",
      "[nltk_data]     /Users/henry.hartzler/nltk_data...\n",
      "[nltk_data]   Package punkt is already up-to-date!\n",
      "[nltk_data] Downloading package wordnet to\n",
      "[nltk_data]     /Users/henry.hartzler/nltk_data...\n",
      "[nltk_data]   Package wordnet is already up-to-date!\n",
      "[nltk_data] Downloading package omw-1.4 to\n",
      "[nltk_data]     /Users/henry.hartzler/nltk_data...\n",
      "[nltk_data]   Package omw-1.4 is already up-to-date!\n"
     ]
    },
    {
     "data": {
      "text/plain": [
       "True"
      ]
     },
     "execution_count": 155,
     "metadata": {},
     "output_type": "execute_result"
    }
   ],
   "source": [
    "#import packages\n",
    "import pandas as pd  #for Dataframe and data manipulations\n",
    "import numpy as np  #Provides array objects\n",
    "from numpy import savetxt\n",
    "import gzip  #For unzipping the input customer review files\n",
    "import re  #For regular expression usage\n",
    "import seaborn as sns  #For visualization like data distribution matrix\n",
    "import nltk  #Natrual language toolkit\n",
    "import matplotlib.pyplot as plt\n",
    "\n",
    "import sklearn\n",
    "from sklearn import preprocessing\n",
    "from sklearn.preprocessing import OneHotEncoder\n",
    "from sklearn import model_selection\n",
    "from sklearn.model_selection import train_test_split\n",
    "import tensorflow as tf  #TensorFlow Package\n",
    "import keras  #Neural network API\n",
    "from tensorflow import keras\n",
    "from keras import preprocessing\n",
    "from tensorflow.keras.preprocessing.text import Tokenizer  #Convert input text to tokens\n",
    "from tensorflow.keras.callbacks import EarlyStopping  #Stop training at a threshold\n",
    "from tensorflow.keras.models import load_model  #load a saved model\n",
    "from tensorflow.keras.layers import Dense, Embedding\n",
    "from tensorflow.keras.models import Sequential\n",
    "from tensorflow.keras.preprocessing.sequence import pad_sequences  #For padding of text\n",
    "from sklearn.model_selection import GridSearchCV\n",
    "\n",
    "\n",
    "from nltk.corpus import stopwords #For stopword usage\n",
    "from nltk import word_tokenize\n",
    "from nltk.stem import PorterStemmer\n",
    "from nltk.stem import WordNetLemmatizer \n",
    "nltk.download('stopwords')\n",
    "nltk.download('punkt')\n",
    "nltk.download('wordnet')\n",
    "nltk.download('omw-1.4')"
   ]
  },
  {
   "cell_type": "code",
   "execution_count": 156,
   "id": "b49d083d",
   "metadata": {},
   "outputs": [],
   "source": [
    "#Load text files from UCI Sentiment Labeled Sentences Dataset\n",
    "df = pd.read_csv('/Users/henry.hartzler/Desktop/sentiment labelled sentences/amazon_cells_labelled.txt', delimiter='\\t', header=None)\n",
    "df.columns = ['review', 'sentiment']"
   ]
  },
  {
   "cell_type": "code",
   "execution_count": 157,
   "id": "86f32af7",
   "metadata": {},
   "outputs": [
    {
     "data": {
      "text/html": [
       "<div>\n",
       "<style scoped>\n",
       "    .dataframe tbody tr th:only-of-type {\n",
       "        vertical-align: middle;\n",
       "    }\n",
       "\n",
       "    .dataframe tbody tr th {\n",
       "        vertical-align: top;\n",
       "    }\n",
       "\n",
       "    .dataframe thead th {\n",
       "        text-align: right;\n",
       "    }\n",
       "</style>\n",
       "<table border=\"1\" class=\"dataframe\">\n",
       "  <thead>\n",
       "    <tr style=\"text-align: right;\">\n",
       "      <th></th>\n",
       "      <th>review</th>\n",
       "      <th>sentiment</th>\n",
       "    </tr>\n",
       "  </thead>\n",
       "  <tbody>\n",
       "    <tr>\n",
       "      <th>0</th>\n",
       "      <td>So there is no way for me to plug it in here i...</td>\n",
       "      <td>0</td>\n",
       "    </tr>\n",
       "    <tr>\n",
       "      <th>1</th>\n",
       "      <td>Good case, Excellent value.</td>\n",
       "      <td>1</td>\n",
       "    </tr>\n",
       "    <tr>\n",
       "      <th>2</th>\n",
       "      <td>Great for the jawbone.</td>\n",
       "      <td>1</td>\n",
       "    </tr>\n",
       "    <tr>\n",
       "      <th>3</th>\n",
       "      <td>Tied to charger for conversations lasting more...</td>\n",
       "      <td>0</td>\n",
       "    </tr>\n",
       "    <tr>\n",
       "      <th>4</th>\n",
       "      <td>The mic is great.</td>\n",
       "      <td>1</td>\n",
       "    </tr>\n",
       "    <tr>\n",
       "      <th>5</th>\n",
       "      <td>I have to jiggle the plug to get it to line up...</td>\n",
       "      <td>0</td>\n",
       "    </tr>\n",
       "    <tr>\n",
       "      <th>6</th>\n",
       "      <td>If you have several dozen or several hundred c...</td>\n",
       "      <td>0</td>\n",
       "    </tr>\n",
       "    <tr>\n",
       "      <th>7</th>\n",
       "      <td>If you are Razr owner...you must have this!</td>\n",
       "      <td>1</td>\n",
       "    </tr>\n",
       "    <tr>\n",
       "      <th>8</th>\n",
       "      <td>Needless to say, I wasted my money.</td>\n",
       "      <td>0</td>\n",
       "    </tr>\n",
       "    <tr>\n",
       "      <th>9</th>\n",
       "      <td>What a waste of money and time!.</td>\n",
       "      <td>0</td>\n",
       "    </tr>\n",
       "  </tbody>\n",
       "</table>\n",
       "</div>"
      ],
      "text/plain": [
       "                                              review  sentiment\n",
       "0  So there is no way for me to plug it in here i...          0\n",
       "1                        Good case, Excellent value.          1\n",
       "2                             Great for the jawbone.          1\n",
       "3  Tied to charger for conversations lasting more...          0\n",
       "4                                  The mic is great.          1\n",
       "5  I have to jiggle the plug to get it to line up...          0\n",
       "6  If you have several dozen or several hundred c...          0\n",
       "7        If you are Razr owner...you must have this!          1\n",
       "8                Needless to say, I wasted my money.          0\n",
       "9                   What a waste of money and time!.          0"
      ]
     },
     "execution_count": 157,
     "metadata": {},
     "output_type": "execute_result"
    }
   ],
   "source": [
    "#Preview Merged Dataframe\n",
    "df.head(10)"
   ]
  },
  {
   "cell_type": "code",
   "execution_count": 158,
   "id": "1afd1988",
   "metadata": {},
   "outputs": [
    {
     "data": {
      "text/plain": [
       "(1000, 2)"
      ]
     },
     "execution_count": 158,
     "metadata": {},
     "output_type": "execute_result"
    }
   ],
   "source": [
    "#View Shape of Data \n",
    "df.shape"
   ]
  },
  {
   "cell_type": "code",
   "execution_count": 159,
   "id": "76bac2be",
   "metadata": {},
   "outputs": [
    {
     "data": {
      "text/html": [
       "<div>\n",
       "<style scoped>\n",
       "    .dataframe tbody tr th:only-of-type {\n",
       "        vertical-align: middle;\n",
       "    }\n",
       "\n",
       "    .dataframe tbody tr th {\n",
       "        vertical-align: top;\n",
       "    }\n",
       "\n",
       "    .dataframe thead th {\n",
       "        text-align: right;\n",
       "    }\n",
       "</style>\n",
       "<table border=\"1\" class=\"dataframe\">\n",
       "  <thead>\n",
       "    <tr style=\"text-align: right;\">\n",
       "      <th></th>\n",
       "      <th>sentiment</th>\n",
       "    </tr>\n",
       "  </thead>\n",
       "  <tbody>\n",
       "    <tr>\n",
       "      <th>count</th>\n",
       "      <td>1000.00000</td>\n",
       "    </tr>\n",
       "    <tr>\n",
       "      <th>mean</th>\n",
       "      <td>0.50000</td>\n",
       "    </tr>\n",
       "    <tr>\n",
       "      <th>std</th>\n",
       "      <td>0.50025</td>\n",
       "    </tr>\n",
       "    <tr>\n",
       "      <th>min</th>\n",
       "      <td>0.00000</td>\n",
       "    </tr>\n",
       "    <tr>\n",
       "      <th>25%</th>\n",
       "      <td>0.00000</td>\n",
       "    </tr>\n",
       "    <tr>\n",
       "      <th>50%</th>\n",
       "      <td>0.50000</td>\n",
       "    </tr>\n",
       "    <tr>\n",
       "      <th>75%</th>\n",
       "      <td>1.00000</td>\n",
       "    </tr>\n",
       "    <tr>\n",
       "      <th>max</th>\n",
       "      <td>1.00000</td>\n",
       "    </tr>\n",
       "  </tbody>\n",
       "</table>\n",
       "</div>"
      ],
      "text/plain": [
       "        sentiment\n",
       "count  1000.00000\n",
       "mean      0.50000\n",
       "std       0.50025\n",
       "min       0.00000\n",
       "25%       0.00000\n",
       "50%       0.50000\n",
       "75%       1.00000\n",
       "max       1.00000"
      ]
     },
     "execution_count": 159,
     "metadata": {},
     "output_type": "execute_result"
    }
   ],
   "source": [
    "df.describe()"
   ]
  },
  {
   "cell_type": "code",
   "execution_count": 160,
   "id": "cb276b97",
   "metadata": {},
   "outputs": [
    {
     "name": "stdout",
     "output_type": "stream",
     "text": [
      "<class 'pandas.core.frame.DataFrame'>\n",
      "RangeIndex: 1000 entries, 0 to 999\n",
      "Data columns (total 2 columns):\n",
      " #   Column     Non-Null Count  Dtype \n",
      "---  ------     --------------  ----- \n",
      " 0   review     1000 non-null   object\n",
      " 1   sentiment  1000 non-null   int64 \n",
      "dtypes: int64(1), object(1)\n",
      "memory usage: 15.8+ KB\n"
     ]
    }
   ],
   "source": [
    "df.info()"
   ]
  },
  {
   "cell_type": "code",
   "execution_count": 161,
   "id": "6ac791b8",
   "metadata": {},
   "outputs": [
    {
     "data": {
      "text/plain": [
       "<AxesSubplot:xlabel='sentiment', ylabel='count'>"
      ]
     },
     "execution_count": 161,
     "metadata": {},
     "output_type": "execute_result"
    },
    {
     "data": {
      "image/png": "[encoded data removed]",
      "text/plain": [
       "<Figure size 432x288 with 1 Axes>"
      ]
     },
     "metadata": {
      "needs_background": "light"
     },
     "output_type": "display_data"
    }
   ],
   "source": [
    "#Verify the distribution of data\n",
    "sns.countplot(data=df, x='sentiment', palette='dark')"
   ]
  },
  {
   "cell_type": "code",
   "execution_count": 162,
   "id": "7d9e0678",
   "metadata": {},
   "outputs": [
    {
     "name": "stdout",
     "output_type": "stream",
     "text": [
      "['S', 'o', ' ', 't', 'h', 'e', 'r', 'i', 's', 'n', 'w', 'a', 'y', 'f', 'm', 'p', 'l', 'u', 'g', 'U', 'I', 'b', 'c', 'v', '.', 'G', 'd', ',', 'E', 'x', 'j', 'T', '4', '5', 'M', 'A', 'J', 'O', 'R', 'P', 'B', 'L', '!', 'z', 'N', 'W', 'q', 'H', '+', 'V', '\"', 'Y', 'D', 'F', 'k', \"'\", 'K', 'C', '/', '7', '3', '6', '8', '0', '2', '?', 'Z', '-', '1', ':', ')', '(', 'Q', '&', '$', '*', ';', 'X', '%', '9', '#', '[', ']']\n"
     ]
    }
   ],
   "source": [
    "#Check for special/unusual characters. (Festus, 2022)\n",
    "characters = df['review']\n",
    "list_of_characters = []\n",
    "for c in characters: \n",
    "    for x in c: \n",
    "        if x not in list_of_characters:\n",
    "            list_of_characters.append(x)\n",
    "            \n",
    "print(list_of_characters)"
   ]
  },
  {
   "cell_type": "code",
   "execution_count": 163,
   "id": "c32d5788",
   "metadata": {},
   "outputs": [
    {
     "data": {
      "text/plain": [
       "['way plug u unless go converter',\n",
       " 'good case excellent value',\n",
       " 'great jawbone',\n",
       " 'tied charger conversation lasting minute major problem',\n",
       " 'mic great',\n",
       " 'jiggle plug get line right get decent volume',\n",
       " 'several dozen several hundred contact imagine fun sending one one',\n",
       " 'razr owner must',\n",
       " 'needle say wasted money',\n",
       " 'waste money time']"
      ]
     },
     "execution_count": 163,
     "metadata": {},
     "output_type": "execute_result"
    }
   ],
   "source": [
    "#Standardizing Text (Festus, 2022)\n",
    "description_list = []\n",
    "stop_words = stopwords.words('english')\n",
    "for description in df.review: \n",
    "    #Remove all characters except letters\n",
    "    description = re.sub('[^a-zA-Z]', ' ', description) \n",
    "    #Convert to lower case\n",
    "    description = description.lower() \n",
    "    #Perform tokenization\n",
    "    description = nltk.word_tokenize(description) \n",
    "    #Perform lemmatization\n",
    "    lemma = nltk.WordNetLemmatizer()\n",
    "    description = [lemma.lemmatize(word) for word in description]\n",
    "    #Remove stopwords\n",
    "    description = [word for word in description if not word in stop_words]\n",
    "    description = ' '.join(description)\n",
    "    description_list.append(description)\n",
    "\n",
    "#Preview List \n",
    "description_list[0:10]"
   ]
  },
  {
   "cell_type": "code",
   "execution_count": 164,
   "id": "d549ddb5",
   "metadata": {},
   "outputs": [
    {
     "name": "stdout",
     "output_type": "stream",
     "text": [
      "Vocabulary Size:  1879\n"
     ]
    }
   ],
   "source": [
    "#Identify vocabulary size (Festus, 2022)\n",
    "tok = Tokenizer()\n",
    "tok.fit_on_texts(df['review'])\n",
    "vocab_size = len(tok.word_index) +1\n",
    "print('Vocabulary Size: ', vocab_size)"
   ]
  },
  {
   "cell_type": "code",
   "execution_count": 165,
   "id": "cc5c1703",
   "metadata": {},
   "outputs": [
    {
     "name": "stdout",
     "output_type": "stream",
     "text": [
      "Proposed Word Embedding Length:  7\n"
     ]
    }
   ],
   "source": [
    "#Proposed Word Embedding Length (Festus, 2022)\n",
    "max_sequence_embedding = int(round(np.sqrt(np.sqrt(vocab_size)), 0))\n",
    "print('Proposed Word Embedding Length: ', max_sequence_embedding)"
   ]
  },
  {
   "cell_type": "code",
   "execution_count": 166,
   "id": "7f009178",
   "metadata": {},
   "outputs": [
    {
     "name": "stdout",
     "output_type": "stream",
     "text": [
      "The maximum length of our sequences would be:  30\n",
      "The minimum length of our sequences would be:  1\n",
      "The median length of our sequences would be:  9.0\n"
     ]
    }
   ],
   "source": [
    "#Maximum sequence length (Festus, 2022)\n",
    "sequence_length = []\n",
    "for char_len in df['review']:\n",
    "    sequence_length.append(len(char_len.split(' ')))\n",
    "    \n",
    "sequence_max = np.max(sequence_length)\n",
    "sequence_min = np.min(sequence_length)\n",
    "sequence_median = np.median(sequence_length)\n",
    "\n",
    "print('The maximum length of our sequences would be: ', sequence_max)\n",
    "print('The minimum length of our sequences would be: ', sequence_min)\n",
    "print('The median length of our sequences would be: ', sequence_median)"
   ]
  },
  {
   "cell_type": "code",
   "execution_count": 167,
   "id": "f116499d",
   "metadata": {},
   "outputs": [
    {
     "name": "stdout",
     "output_type": "stream",
     "text": [
      "Shape of orignal dataset:  (1000, 2)\n",
      "Shape of input - training set:  (800,)\n",
      "Shape of output - training set:  (800,)\n",
      "Shape of input - testing set:  (200,)\n",
      "Shape of output - testing set:  (200,)\n"
     ]
    }
   ],
   "source": [
    "#Split data into Train and Test Datasets \n",
    "sentiment_list = df[\"sentiment\"].values.tolist()\n",
    "\n",
    "X = np.array(description_list)\n",
    "y = np.array(sentiment_list)\n",
    "\n",
    "X_train, X_test, y_train, y_test = train_test_split(X, y, test_size=0.2, random_state=40, stratify=y)\n",
    "\n",
    "print('Shape of orignal dataset: ', df.shape)\n",
    "print('Shape of input - training set: ', X_train.shape)\n",
    "print('Shape of output - training set: ', y_train.shape)\n",
    "print('Shape of input - testing set: ', X_test.shape)\n",
    "print('Shape of output - testing set: ', y_test.shape)"
   ]
  },
  {
   "cell_type": "code",
   "execution_count": 168,
   "id": "068e10f8",
   "metadata": {},
   "outputs": [],
   "source": [
    "#Save Train and Test Datasets as CSV files \n",
    "savetxt('/Users/henry.hartzler/Desktop/X_train.csv', X_train, delimiter=' ', fmt='%s')\n",
    "savetxt('/Users/henry.hartzler/Desktop/y_train.csv', y_train, delimiter=' ', fmt='%s')\n",
    "savetxt('/Users/henry.hartzler/Desktop/X_test.csv', X_test, delimiter=' ', fmt='%s')\n",
    "savetxt('/Users/henry.hartzler/Desktop/y_test.csv', y_test, delimiter=' ', fmt='%s')"
   ]
  },
  {
   "cell_type": "code",
   "execution_count": 169,
   "id": "a712ad66",
   "metadata": {},
   "outputs": [
    {
     "name": "stdout",
     "output_type": "stream",
     "text": [
      "{'OOV': 1, 'phone': 2, 'great': 3, 'wa': 4, 'work': 5, 'good': 6, 'headset': 7, 'quality': 8, 'product': 9, 'battery': 10, 'sound': 11, 'well': 12, 'use': 13, 'one': 14, 'ear': 15, 'like': 16, 'ha': 17, 'would': 18, 'case': 19, 'time': 20, 'price': 21, 'get': 22, 'really': 23, 'recommend': 24, 'doe': 25, 'excellent': 26, 'call': 27, 'love': 28, 'make': 29, 'best': 30, 'charger': 31, 'nice': 32, 'fit': 33, 'new': 34, 'problem': 35, 'item': 36, 'service': 37, 'look': 38, 'also': 39, 'easy': 40, 'car': 41, 'ever': 42, 'worked': 43, 'bluetooth': 44, 'year': 45, 'bought': 46, 'even': 47, 'money': 48, 'charge': 49, 'first': 50, 'used': 51, 'comfortable': 52, 'buy': 53, 'could': 54, 'better': 55, 'reception': 56, 'still': 57, 'happy': 58, 'long': 59, 'poor': 60, 'two': 61, 'purchase': 62, 'cell': 63, 'last': 64, 'day': 65, 'life': 66, 'camera': 67, 'piece': 68, 'using': 69, 'worst': 70, 'volume': 71, 'made': 72, 'hear': 73, 'right': 74, 'clear': 75, 'far': 76, 'bad': 77, 'screen': 78, 'people': 79, 'motorola': 80, 'month': 81, 'thing': 82, 'much': 83, 'plug': 84, 'say': 85, 'pretty': 86, 'got': 87, 'week': 88, 'device': 89, 'fine': 90, 'low': 91, 'design': 92, 'jabra': 93, 'wear': 94, 'hold': 95, 'lot': 96, 'go': 97, 'waste': 98, 'feature': 99, 'think': 100, 'hand': 101, 'cheap': 102, 'without': 103, 'highly': 104, 'enough': 105, 'tried': 106, 'picture': 107, 'light': 108, 'loud': 109, 'take': 110, 'horrible': 111, 'nokia': 112, 'cool': 113, 'everything': 114, 'impressed': 115, 'working': 116, 'real': 117, 'went': 118, 'found': 119, 'customer': 120, 'feel': 121, 'broke': 122, 'internet': 123, 'junk': 124, 'terrible': 125, 'talk': 126, 'dropped': 127, 'amazon': 128, 'samsung': 129, 'quite': 130, 'cable': 131, 'disappointed': 132, 'way': 133, 'end': 134, 'within': 135, 'however': 136, 'minute': 137, 'verizon': 138, 'software': 139, 'voice': 140, 'completely': 141, 'never': 142, 'around': 143, 'little': 144, 'came': 145, 'stay': 146, 'earpiece': 147, 'several': 148, 'couple': 149, 'signal': 150, 'back': 151, 'perfectly': 152, 'want': 153, 'razr': 154, 'unit': 155, 'since': 156, 'wife': 157, 'hour': 158, 'received': 159, 'overall': 160, 'kind': 161, 'company': 162, 'free': 163, 'come': 164, 'easily': 165, 'range': 166, 'audio': 167, 'many': 168, 'big': 169, 'color': 170, 'v': 171, 'button': 172, 'find': 173, 'side': 174, 'belt': 175, 'going': 176, 'simple': 177, 'star': 178, 'try': 179, 'three': 180, 'started': 181, 'awesome': 182, 'replace': 183, 'headphone': 184, 'part': 185, 'original': 186, 'arrived': 187, 'old': 188, 'useless': 189, 'le': 190, 'bar': 191, 'line': 192, 'looking': 193, 'either': 194, 'player': 195, 'lightweight': 196, 'pc': 197, 'put': 198, 'deal': 199, 'palm': 200, 'small': 201, 'kept': 202, 'usb': 203, 'sending': 204, 'said': 205, 'mobile': 206, 'shipping': 207, 'place': 208, 'important': 209, 'bt': 210, 'decent': 211, 'black': 212, 'blue': 213, 'quickly': 214, 'unfortunately': 215, 'face': 216, 'left': 217, 'instruction': 218, 'difficult': 219, 'job': 220, 'easier': 221, 'none': 222, 'contact': 223, 'treo': 224, 'able': 225, 'drop': 226, 'awful': 227, 'crap': 228, 'disappointment': 229, 'value': 230, 'actually': 231, 'turn': 232, 'need': 233, 'strong': 234, 'buying': 235, 'ago': 236, 'pleased': 237, 'high': 238, 'keep': 239, 'every': 240, 'fall': 241, 'plastic': 242, 'others': 243, 'break': 244, 'clip': 245, 'connection': 246, 'know': 247, 'performance': 248, 'charging': 249, 'purchased': 250, 'choice': 251, 'conversation': 252, 'anything': 253, 'away': 254, 'plantronics': 255, 'comfortably': 256, 'drain': 257, 'may': 258, 'protection': 259, 'always': 260, 'cut': 261, 'beep': 262, 'failed': 263, 'helpful': 264, 'pocket': 265, 'sony': 266, 'w': 267, 'thats': 268, 'flip': 269, 'extra': 270, 'plugged': 271, 'lg': 272, 'replacement': 273, 'lacking': 274, 'pairing': 275, 'bargain': 276, 'anyone': 277, 'unreliable': 278, 'play': 279, 'order': 280, 'tool': 281, 'lost': 282, 'holster': 283, 'noise': 284, 'effect': 285, 'video': 286, 'speaker': 287, 'tone': 288, 'mp': 289, 'beautiful': 290, 'run': 291, 'clarity': 292, 'touch': 293, 'charm': 294, 'hate': 295, 'family': 296, 'sturdy': 297, 'nothing': 298, 'size': 299, 'setup': 300, 'microphone': 301, 'description': 302, 'return': 303, 'poorly': 304, 'dead': 305, 'set': 306, 'give': 307, 'cingular': 308, 'getting': 309, 'wanted': 310, 'leather': 311, 'keyboard': 312, 'instead': 313, 'second': 314, 'obviously': 315, 'mic': 316, 'included': 317, 'sure': 318, 'seems': 319, 'iphone': 320, 'match': 321, 'super': 322, 'cellphone': 323, 'different': 324, 'plan': 325, 'market': 326, 'e': 327, 'expect': 328, 'avoid': 329, 'handsfree': 330, 'front': 331, 'forever': 332, 'expensive': 333, 'worth': 334, 'complaint': 335, 'decision': 336, 'perhaps': 337, 'weak': 338, 'wearing': 339, 'q': 340, 'might': 341, 'mistake': 342, 'care': 343, 'seriously': 344, 'home': 345, 'earbud': 346, 'disappointing': 347, 'plus': 348, 'longer': 349, 'form': 350, 'ringtones': 351, 'suck': 352, 'finally': 353, 'jawbone': 354, 'fast': 355, 'expected': 356, 'yet': 357, 'ease': 358, 'packaged': 359, 'dont': 360, 'coverage': 361, 'another': 362, 'provided': 363, 'sprint': 364, 'worthless': 365, 'nearly': 366, 'option': 367, 'usually': 368, 'mess': 369, 'seller': 370, 'together': 371, 'show': 372, 'ordered': 373, 'simply': 374, 'absolutely': 375, 'uncomfortable': 376, 'previous': 377, 'wired': 378, 'sunglass': 379, 'dropping': 380, 'alone': 381, 'wow': 382, 'scratched': 383, 'sounded': 384, 'ok': 385, 'almost': 386, 'understand': 387, 'recharge': 388, 'timeframe': 389, 'excited': 390, 'source': 391, 'embarrassing': 392, 'pad': 393, 'making': 394, 'ring': 395, 'chinese': 396, 'though': 397, 'sharp': 398, 'flaw': 399, 'thought': 400, 'c': 401, 'must': 402, 'definitely': 403, 'comfort': 404, 'stupid': 405, 'accidentally': 406, 'advertised': 407, 'huge': 408, 'unless': 409, 'tooth': 410, 'experience': 411, 'especially': 412, 'sleek': 413, 'impressive': 414, 'push': 415, 'done': 416, 'waiting': 417, 'something': 418, 'crisp': 419, 'support': 420, 'ended': 421, 'hard': 422, 'data': 423, 'figure': 424, 'ipod': 425, 'flawlessly': 426, 'purchasing': 427, 'placed': 428, 'room': 429, 'holding': 430, 'dialing': 431, 'stop': 432, 'ringing': 433, 'breaking': 434, 'extended': 435, 'slim': 436, 'docking': 437, 'station': 438, 'unusable': 439, 'appears': 440, 'pda': 441, 'gadget': 442, 'rather': 443, 'coming': 444, 'keypad': 445, 'message': 446, 'pay': 447, 'secure': 448, 'tip': 449, 'tell': 450, 'notice': 451, 'pull': 452, 'fire': 453, 'charged': 454, 'echo': 455, 'display': 456, 'shipped': 457, 'construction': 458, 'cradle': 459, 'rock': 460, 'bottom': 461, 'send': 462, 'key': 463, 'sex': 464, 'review': 465, 'download': 466, 'laptop': 467, 'superb': 468, 'att': 469, 'satisfied': 470, 'flimsy': 471, 'whatsoever': 472, 'numerous': 473, 'exchanged': 474, 'operate': 475, 'joke': 476, 'network': 477, 'later': 478, 'owned': 479, 'regarding': 480, 'foot': 481, 'buyer': 482, 'turned': 483, 'noticed': 484, 'returning': 485, 'probably': 486, 'stated': 487, 'house': 488, 'issue': 489, 'reason': 490, 'particular': 491, 'clearly': 492, 'store': 493, 'save': 494, 'loop': 495, 'h': 496, 'unhappy': 497, 'eargels': 498, 'seem': 499, 'told': 500, 'although': 501, 'warranty': 502, 'forced': 503, 'needed': 504, 'connected': 505, 'please': 506, 'current': 507, 'everyone': 508, 'despite': 509, 'barely': 510, 'tinny': 511, 'extremely': 512, 'happier': 513, 'glad': 514, 'static': 515, 'carry': 516, 'exactly': 517, 'slow': 518, 'u': 519, 'given': 520, 'wasted': 521, 'cost': 522, 'skype': 523, 'power': 524, 'wall': 525, 'outlet': 526, 'etc': 527, 'priced': 528, 'functionality': 529, 'protector': 530, 'returned': 531, 'dozen': 532, 'trouble': 533, 'whole': 534, 'amazed': 535, 'reasonably': 536, 'wireless': 537, 'ability': 538, 'computer': 539, 'access': 540, 'warning': 541, 'pair': 542, 'gel': 543, 'technology': 544, 'r': 545, 'described': 546, 'took': 547, 'beware': 548, 'glass': 549, 'accept': 550, 'switch': 551, 'gotten': 552, 'smell': 553, 'user': 554, 'friendly': 555, 'trying': 556, 'window': 557, 'caused': 558, 'experienced': 559, 'normal': 560, 'large': 561, 'buzzing': 562, 'override': 563, 'background': 564, 'lose': 565, 'maintain': 566, 'receiving': 567, 'thank': 568, 'handy': 569, 'loudspeaker': 570, 'bumper': 571, 'appealing': 572, 'potentially': 573, 'fry': 574, 'provides': 575, 'classy': 576, 'rotating': 577, 'headband': 578, 'hair': 579, 'thumb': 580, 'combination': 581, 'restart': 582, 'ericsson': 583, 'purcashed': 584, 'aluminum': 585, 'vx': 586, 'protected': 587, 'handheld': 588, 'elsewhere': 589, 'bell': 590, 'whistle': 591, 'mediocre': 592, 'aggravating': 593, 'apartment': 594, 'compared': 595, 'died': 596, 'texas': 597, 'ngage': 598, 'earbuds': 599, 'continue': 600, 'periodically': 601, 'somehow': 602, 'ca': 603, 'accessoryone': 604, 'bluetoooth': 605, 'reading': 606, 'spec': 607, 'open': 608, 'allowing': 609, 'wrong': 610, 'awsome': 611, 'totally': 612, 'unintelligible': 613, 'word': 614, 'lasting': 615, 'frequentyly': 616, 'bud': 617, 'music': 618, 'ask': 619, 'span': 620, 'exclaim': 621, 'whoa': 622, 'tv': 623, 'incredible': 624, 'certain': 625, 'mostly': 626, 'child': 627, 'lousy': 628, 'bose': 629, 'cancelling': 630, 'amazing': 631, 'nyc': 632, 'commuter': 633, 'currently': 634, 'game': 635, 'person': 636, 'shooter': 637, 'delay': 638, 'pleather': 639, 'forgery': 640, 'abound': 641, 'gosh': 642, 'behing': 643, 'comfortible': 644, 'pain': 645, 'pic': 646, 'integrated': 647, 'seamlessly': 648, 'sudden': 649, 'styling': 650, 'waaay': 651, 'designed': 652, 'grtting': 653, 'owner': 654, 'activate': 655, 'gentle': 656, 'listening': 657, 'darn': 658, 'contract': 659, 'mine': 660, 'christmas': 661, 'rest': 662, 'correctly': 663, 'jerk': 664, 'describe': 665, 'waterproof': 666, 'louder': 667, 'practical': 668, 'ample': 669, 'storage': 670, 'explain': 671, 'jack': 672, 'protects': 673, 'securly': 674, 'improper': 675, 'constructed': 676, 'menu': 677, 'navigate': 678, 'recessed': 679, 'copier': 680, 'tech': 681, 'walked': 682, 'procedure': 683, 'wiping': 684, 'convenient': 685, 'ride': 686, 'smoother': 687, 'wirefly': 688, 'inform': 689, 'practice': 690, 'realize': 691, 'embarassing': 692, 'hurt': 693, 'steer': 694, 'genuine': 695, 'replacementr': 696, 'pen': 697, 'pack': 698, 'mainly': 699, 'soon': 700, 'snug': 701, 'accompanied': 702, 'brilliant': 703, 'commercial': 704, 'misleading': 705, 'smudged': 706, 'intermittently': 707, 'balance': 708, 'killer': 709, 'course': 710, 'auto': 711, 'reverse': 712, 'tape': 713, 'hoping': 714, 'impossible': 715, 'improvement': 716, 'searched': 717, 'avoiding': 718, 'saggy': 719, 'floppy': 720, 'counterfeit': 721, 'plenty': 722, 'capacity': 723, 'confortable': 724, 'somewhat': 725, 'period': 726, 'soft': 727, 'tight': 728, 'shape': 729, 'alarm': 730, 'clock': 731, 'removing': 732, 'moving': 733, 'freeway': 734, 'speed': 735, 'attractive': 736, 'possesed': 737, 'idea': 738, 'usable': 739, 'world': 740, 'useful': 741, 'machine': 742, 'neat': 743, 'crashed': 744, 'replaced': 745, 'dustpan': 746, 'indoors': 747, 'disposable': 748, 'thanks': 749, 'driving': 750, 'loudest': 751, 'setting': 752, 'clipping': 753, 'deffinitely': 754, 'cent': 755, 'check': 756, 'mail': 757, 'night': 758, 'backlight': 759, 'glove': 760, 'durable': 761, 'electronics': 762, 'available': 763, 'fm': 764, 'transmitter': 765, 'igo': 766, 'ac': 767, 'juice': 768, 'highy': 769, 'recommended': 770, 'keeping': 771, 'inside': 772, 'hoped': 773, 'pro': 774, 'supposedly': 775, 'apparently': 776, 'weight': 777, 'hardly': 778, 'couldnt': 779, 'earphone': 780, 'posted': 781, 'detailed': 782, 'comment': 783, 'grey': 784, 'red': 785, 'liked': 786, 'psyched': 787, 'appointment': 788, 'load': 789, 'linked': 790, 'effort': 791, 'hybrid': 792, 'palmtop': 793, 'excels': 794, 'role': 795, 'motor': 796, 'control': 797, 'center': 798, 'voltage': 799, 'humming': 800, 'equipment': 801, 'unsatisfactory': 802, 'concrete': 803, 'knock': 804, 'wood': 805, 'slide': 806, 'grip': 807, 'prevents': 808, 'slipping': 809, 'contstruct': 810, 'hinge': 811, 'earset': 812, 'outgoing': 813, 'self': 814, 'portrait': 815, 'outside': 816, 'exterior': 817, 'bill': 818, 'pricing': 819, 'promptly': 820, 'reasonable': 821, 'infatuated': 822, 'refuse': 823, 'refund': 824, 'kit': 825, 'delivery': 826, 'reaching': 827, 'row': 828, 'reliability': 829, 'build': 830, 'unlike': 831, 'geeky': 832, 'toast': 833, 'ooze': 834, 'embedded': 835, 'stylish': 836, 'im': 837, 'surprised': 838, 'perfect': 839, 'p': 840, 'smoothly': 841, 'everyday': 842, 'ir': 843, 'neither': 844, 'address': 845, 'book': 846, 'reboots': 847, 'rate': 848, 'normally': 849, 'apart': 850, 'haul': 851, 'third': 852, 'text': 853, 'messaging': 854, 'tricky': 855, 'overly': 856, 'wit': 857, 'hit': 858, 'leopard': 859, 'print': 860, 'wonderfully': 861, 'wild': 862, 'penny': 863, 'puff': 864, 'smoke': 865, 'sitting': 866, 'vehicle': 867, 'guess': 868, 'loos': 869, 'remorse': 870, 'fully': 871, 'bed': 872, 'wi': 873, 'fi': 874, 'morning': 875, 'fulfills': 876, 'requirement': 877, 'ordering': 878, 'standard': 879, 'defeat': 880, 'purpose': 881, 'inexcusable': 882, 'changing': 883, 'carrier': 884, 'unacceptable': 885, 'research': 886, 'development': 887, 'division': 888, 'antena': 889, 'roam': 890, 'living': 891, 'drivng': 892, 'along': 893, 'start': 894, 'angle': 895, 'party': 896, 'worthwhile': 897, 'specially': 898, 'promised': 899, 'click': 900, 'wonder': 901, 'mechanism': 902, 'interface': 903, 'decade': 904, 'compete': 905, 'material': 906, 'allows': 907, 'connect': 908, 'mini': 909, 'dissapointing': 910, 'channel': 911, 'directly': 912, 'increase': 913, 'reccommend': 914, 'restored': 915, 'contacted': 916, 'produce': 917, 'receipt': 918, 'luck': 919, 'due': 920, 'happening': 921, 'thorn': 922, 'abhor': 923, 'reversible': 924, 'jx': 925, 'series': 926, 'moto': 927, 'whether': 928, 'catching': 929, 'seat': 930, 'ergonomic': 931, 'theory': 932, 'stand': 933, 'planning': 934, 'beat': 935, 'finger': 936, 'slowly': 937, 'regret': 938, 'muddy': 939, 'casing': 940, 'wire': 941, 'insert': 942, 'glued': 943, 'slid': 944, 'sliding': 945, 'edge': 946, 'pant': 947, 'absolutel': 948, 'passed': 949, 'mark': 950, 'sign': 951, 'functional': 952, 'earlier': 953, 'noted': 954, 'happens': 955, 'shot': 956, 'flash': 957, 'stereo': 958, 'faceplate': 959, 'elegant': 960, 'constantly': 961, 'saying': 962, 'recieve': 963, 'performed': 964, 'muffled': 965, 'incoming': 966, 'severe': 967, 'otherwise': 968, 'install': 969, 'ugly': 970, 'wont': 971, 'atleast': 972, 'whine': 973, 'hat': 974, 'accessory': 975, 'manufacturer': 976, 'rip': 977, 'model': 978, 'smartphone': 979, 'improve': 980, 'leak': 981, 'believe': 982, 'steep': 983, 'point': 984, 'hot': 985, 'majority': 986, 'logitech': 987, 'favorite': 988, 'encourage': 989, 'white': 990, 'colored': 991, 'hoursthe': 992, 'thereplacement': 993, 'father': 994, 'dying': 995, 'bother': 996, 'contacting': 997, 'dollar': 998, 'learned': 999, 'lesson': 1000, 'online': 1001, 'anyway': 1002, 'seperated': 1003, 'mere': 1004, 'ft': 1005, 'excessive': 1006, 'garbled': 1007, 'cutout': 1008, 'upbeat': 1009, 'complained': 1010, 'razor': 1011, 'four': 1012, 'spring': 1013, 'latch': 1014, 'visor': 1015, 'fantastic': 1016, 'cheaply': 1017, 'missed': 1018, 'excrutiatingly': 1019, 'talking': 1020, 'shouting': 1021, 'telephone': 1022, 'kindle': 1023, 'loved': 1024, 'era': 1025, 'sturdiness': 1026, 'fourth': 1027, 'hated': 1028, 'winner': 1029, 'needle': 1030, 'awkward': 1031, 'hey': 1032, 'pleasantly': 1033, 'suprised': 1034, 'paired': 1035, 'transceiver': 1036, 'defective': 1037, 'cat': 1038, 'attacked': 1039, 'protective': 1040, 'strip': 1041, 'destroying': 1042, 'connecting': 1043, 'multiple': 1044, 'imac': 1045, 'external': 1046, 'trunk': 1047, 'carried': 1048, 'hitch': 1049, 'inexpensive': 1050, 'solid': 1051, 'top': 1052, 'causing': 1053, 'discomfort': 1054, 'seen': 1055, 'mentioned': 1056, 'recently': 1057, 'disconnected': 1058, 'arguing': 1059, 'essentially': 1060, 'communication': 1061, 'communicate': 1062, 'cheaper': 1063, 'competitor': 1064, 'truly': 1065, 'sanyo': 1066, 'survived': 1067, 'blacktop': 1068, 'ill': 1069, 'compromise': 1070, 'full': 1071, 'qwerty': 1072, 'basic': 1073, 'number': 1074, 'quick': 1075, 'arrival': 1076, 'fraction': 1077, 'cant': 1078, 'careful': 1079, 'condition': 1080, 'tremendous': 1081, 'wrongly': 1082, 'corded': 1083, 'freedom': 1084, 'fails': 1085, 'brand': 1086, 'graphic': 1087, 'total': 1088, 'package': 1089, 'bluetooths': 1090, 'listener': 1091, 'literally': 1092, 'cumbersome': 1093, 'starter': 1094, 'intended': 1095, 'immediately': 1096, 'snap': 1097, 'sucked': 1098, 'stuff': 1099, 'lit': 1100, 'rare': 1101, 'instance': 1102, 'hundred': 1103, 'imagine': 1104, 'fun': 1105, 'tracfone': 1106, 'joy': 1107, 'someone': 1108, 'shouldve': 1109, 'invented': 1110, 'sooner': 1111, 'rated': 1112, 'megapixels': 1113, 'render': 1114, 'image': 1115, 'expectation': 1116, 'relatively': 1117, 'resolution': 1118, 'five': 1119, 'nightmare': 1120, 'mega': 1121, 'pixel': 1122, 'converter': 1123, 'los': 1124, 'angeles': 1125, 'cancellation': 1126, 'situation': 1127, 'bitpim': 1128, 'program': 1129, 'transfer': 1130, 'manual': 1131, 'aspect': 1132, 'quit': 1133, 'certainly': 1134, 'additional': 1135, 'soyo': 1136, 'garbage': 1137, 'result': 1138, 'stuck': 1139, 'max': 1140, 'mute': 1141, 'drawback': 1142, 'cover': 1143, 'let': 1144, 'pause': 1145, 'skip': 1146, 'song': 1147, 'lock': 1148, 'metro': 1149, 'sch': 1150, 'slider': 1151, 'premium': 1152, 'acceptable': 1153, 'existing': 1154, 'cd': 1155, 'greater': 1156, 'dit': 1157, 'refused': 1158, 'upgrade': 1159, 'discount': 1160, 'via': 1161, 'biggest': 1162, 'superfast': 1163, 'sold': 1164, 'oh': 1165, 'forgot': 1166, 'mention': 1167, 'weird': 1168, 'stream': 1169, 'submerged': 1170, 'thin': 1171, 'scary': 1172, 'inch': 1173, 'kitchen': 1174, 'counter': 1175, 'cracked': 1176, 'laughing': 1177, 'dirty': 1178, 'according': 1179, 'called': 1180, 'applifies': 1181, 'jiggle': 1182, 'smallest': 1183, 'bulky': 1184, 'outperform': 1185, 'china': 1186, 'gave': 1187, 'sometimes': 1188, 'sweetest': 1189, 'ericson': 1190, 'z': 1191, 'web': 1192, 'browsing': 1193, 'significantly': 1194, 'faster': 1195, 'ready': 1196, 'prime': 1197, 'advise': 1198, 'cassette': 1199, 'rocketed': 1200, 'destination': 1201, 'unknown': 1202, 'cheapy': 1203, 'stopped': 1204, 'definitly': 1205, 'zero': 1206, 'defect': 1207, 'risk': 1208, 'built': 1209, 'disgusting': 1210, 'shield': 1211, 'incrediable': 1212, 'transformed': 1213, 'organizational': 1214, 'capability': 1215, 'disapoinment': 1216, 'properly': 1217, 'peachy': 1218, 'keen': 1219, 'fabulous': 1220, 'basically': 1221, 'threw': 1222, 'ant': 1223, 'generally': 1224, 'adapter': 1225, 'provide': 1226, 'rubber': 1227, 'petroleum': 1228, 'unbearable': 1229, 'area': 1230, 'breakage': 1231, 'unacceptible': 1232, 'except': 1233, 'cbr': 1234, 'preferably': 1235, 'ripped': 1236, 'medium': 1237, 'land': 1238, 'securely': 1239, 'hook': 1240, 'directed': 1241, 'canal': 1242, 'maintains': 1243, 'flawless': 1244, 'freeze': 1245, 'frequently': 1246, 'heavy': 1247, 'falling': 1248, 'nano': 1249, 'son': 1250, 'dissapointed': 1251, 'allot': 1252, 'clearer': 1253, 'bougth': 1254, 'l': 1255, 'occupied': 1256, 'distracting': 1257, 'wise': 1258, 'startac': 1259, 'regretted': 1260, 'flipphones': 1261, 'photo': 1262, 'ad': 1263, 'earbugs': 1264, 'mean': 1265, 'bottowm': 1266, 'gimmick': 1267, 'tungsten': 1268, 'accessing': 1269, 'downloading': 1270, 'performing': 1271, 'function': 1272, 'blueant': 1273, 'supertooth': 1274, 'tracfonewebsite': 1275, 'toactivate': 1276, 'utter': 1277, 'satisifed': 1278, 'near': 1279, 'tmobile': 1280, 'fix': 1281, 'excelent': 1282, 'highest': 1283, 'anti': 1284, 'glare': 1285, 'date': 1286, 'inconspicuous': 1287, 'boot': 1288, 'recognition': 1289, 'thru': 1290, 'handset': 1291, 'upstairs': 1292, 'basement': 1293, 'worn': 1294, 'monkey': 1295, 'share': 1296, 'dna': 1297, 'copy': 1298, 'human': 1299, 'flop': 1300, 'ringer': 1301, 'linksys': 1302, 'exchange': 1303, 'refurb': 1304, 'tick': 1305, 'broken': 1306, 'smoking': 1307, 'compliment': 1308, 'infuriating': 1309, 'utterly': 1310, 'confusing': 1311, 'addition': 1312, 'amp': 1313, 'girl': 1314, 'complain': 1315, 'wake': 1316, 'plantronincs': 1317, 'continues': 1318, 'flawed': 1319, 'cingulair': 1320, 'nicer': 1321, 'consumer': 1322, 'bit': 1323, 'walkman': 1324, 'motorolas': 1325, 'simpler': 1326, 'strength': 1327, 'lap': 1328, 'cute': 1329, 'reoccure': 1330, 'somewhere': 1331, 'else': 1332, 'portable': 1333, 'pitiful': 1334, 'respect': 1335, 'crappy': 1336, 'seeen': 1337, 'website': 1338, 'followed': 1339, 'direction': 1340, 'file': 1341, 'browser': 1342, 'offer': 1343, 'yes': 1344, 'shiny': 1345, 'friend': 1346, 'enjoy': 1347, 'trash': 1348, 'displeased': 1349, 'nicely': 1350, 'damage': 1351, 'sister': 1352, 'distorted': 1353, 'yell': 1354, 'colleague': 1355, 'wasting': 1356, 'see': 1357, 'travled': 1358, 'swivel': 1359, 'blackberry': 1360, 'checked': 1361, 'everywhere': 1362, 'ideal': 1363, 'whose': 1364, 'sensitive': 1365, 'funny': 1366, 'seemed': 1367, 'sketchy': 1368, 'factor': 1369, 'fliptop': 1370, 'loose': 1371, 'wobbly': 1372, 'eventually': 1373, 'receive': 1374, 'forget': 1375, 'detachable': 1376, 'europe': 1377, 'asia': 1378, 'sorry': 1379, 'creak': 1380, 'wooden': 1381, 'floor': 1382, 'enter': 1383, 'armband': 1384, 'tiny': 1385, 'exceeds': 1386, 'sight': 1387, 'hype': 1388, 'assumed': 1389, 'mother': 1390, 'mind': 1391, 'gon': 1392, 'na': 1393, 'exercise': 1394, 'frustration': 1395, 'practically': 1396, 'add': 1397, 'boost': 1398, 'flush': 1399, 'toilet': 1400, 'felt': 1401}\n"
     ]
    }
   ],
   "source": [
    "#Normalize text using Tokenization (Festus, 2022) (2019)\n",
    "tokenizer = Tokenizer(num_words=vocab_size, oov_token='OOV')\n",
    "tokenizer.fit_on_texts(X_train)\n",
    "word_index = tokenizer.word_index\n",
    "print(word_index)"
   ]
  },
  {
   "cell_type": "code",
   "execution_count": 170,
   "id": "0293ab2d",
   "metadata": {},
   "outputs": [
    {
     "name": "stdout",
     "output_type": "stream",
     "text": [
      "(800, 30)\n",
      "[[366   6 193 ...   0   0   0]\n",
      " [570 367   3 ...   0   0   0]\n",
      " [ 33 256 194 ...   0   0   0]\n",
      " ...\n",
      " [  6   5  90 ...   0   0   0]\n",
      " [128 352   0 ...   0   0   0]\n",
      " [229 295 253 ...   0   0   0]]\n"
     ]
    }
   ],
   "source": [
    "#Padding Process (Festus, 2022)\n",
    "#Train \n",
    "sequences_train = tokenizer.texts_to_sequences(X_train)\n",
    "padded_train = pad_sequences(sequences_train, maxlen=sequence_max, padding='post', truncating='post')\n",
    "\n",
    "#Test\n",
    "sequences_test = tokenizer.texts_to_sequences(X_test)\n",
    "padded_test = pad_sequences(sequences_test, maxlen=sequence_max, padding='post', truncating='post')\n",
    "\n",
    "#Display the Padded Sequence \n",
    "print(padded_train.shape)\n",
    "print(padded_train)"
   ]
  },
  {
   "cell_type": "code",
   "execution_count": 171,
   "id": "558dda9c",
   "metadata": {},
   "outputs": [
    {
     "name": "stdout",
     "output_type": "stream",
     "text": [
      "Model: \"sequential_7\"\n",
      "_________________________________________________________________\n",
      " Layer (type)                Output Shape              Param #   \n",
      "=================================================================\n",
      " embedding_7 (Embedding)     (None, 30, 16)            30064     \n",
      "                                                                 \n",
      " global_average_pooling1d_7   (None, 16)               0         \n",
      " (GlobalAveragePooling1D)                                        \n",
      "                                                                 \n",
      " dense_21 (Dense)            (None, 100)               1700      \n",
      "                                                                 \n",
      " dense_22 (Dense)            (None, 50)                5050      \n",
      "                                                                 \n",
      " dense_23 (Dense)            (None, 2)                 102       \n",
      "                                                                 \n",
      "=================================================================\n",
      "Total params: 36,916\n",
      "Trainable params: 36,916\n",
      "Non-trainable params: 0\n",
      "_________________________________________________________________\n",
      "None\n",
      "Epoch 1/20\n",
      "20/20 [==============================] - 1s 17ms/step - loss: 0.6937 - accuracy: 0.4844 - val_loss: 0.6933 - val_accuracy: 0.4812\n",
      "Epoch 2/20\n",
      "20/20 [==============================] - 0s 6ms/step - loss: 0.6926 - accuracy: 0.5203 - val_loss: 0.6926 - val_accuracy: 0.4875\n",
      "Epoch 3/20\n",
      "20/20 [==============================] - 0s 5ms/step - loss: 0.6917 - accuracy: 0.5219 - val_loss: 0.6907 - val_accuracy: 0.5188\n",
      "Epoch 4/20\n",
      "20/20 [==============================] - 0s 5ms/step - loss: 0.6844 - accuracy: 0.7688 - val_loss: 0.6850 - val_accuracy: 0.5813\n",
      "Epoch 5/20\n",
      "20/20 [==============================] - 0s 5ms/step - loss: 0.6652 - accuracy: 0.7141 - val_loss: 0.6639 - val_accuracy: 0.8062\n",
      "Epoch 6/20\n",
      "20/20 [==============================] - 0s 5ms/step - loss: 0.6103 - accuracy: 0.8594 - val_loss: 0.6128 - val_accuracy: 0.7875\n",
      "Epoch 7/20\n",
      "20/20 [==============================] - 0s 5ms/step - loss: 0.4933 - accuracy: 0.9047 - val_loss: 0.5217 - val_accuracy: 0.8188\n",
      "Epoch 8/20\n",
      "20/20 [==============================] - 0s 4ms/step - loss: 0.3387 - accuracy: 0.9438 - val_loss: 0.4370 - val_accuracy: 0.8000\n",
      "Epoch 9/20\n",
      "20/20 [==============================] - 0s 4ms/step - loss: 0.2200 - accuracy: 0.9516 - val_loss: 0.3931 - val_accuracy: 0.8188\n",
      "Epoch 10/20\n",
      "20/20 [==============================] - 0s 4ms/step - loss: 0.1606 - accuracy: 0.9609 - val_loss: 0.4207 - val_accuracy: 0.8125\n",
      "Epoch 11/20\n",
      "20/20 [==============================] - 0s 5ms/step - loss: 0.1132 - accuracy: 0.9672 - val_loss: 0.4249 - val_accuracy: 0.8125\n"
     ]
    }
   ],
   "source": [
    "#NN to preform Sentiment Analysis (Festus, 2022)\n",
    "activation = 'softmax'\n",
    "loss = 'sparse_categorical_crossentropy'\n",
    "optimizer = 'adam' \n",
    "embedding_dim = 16\n",
    "\n",
    "num_epochs = 20\n",
    "\n",
    "#Define early stopping monitor \n",
    "early_stopping_monitor = EarlyStopping(patience=2)\n",
    "\n",
    "model = tf.keras.Sequential([\n",
    "    tf.keras.layers.Embedding(vocab_size, embedding_dim, input_length=sequence_max), \n",
    "    tf.keras.layers.GlobalAveragePooling1D(), \n",
    "    tf.keras.layers.Dense(100, activation='relu'),\n",
    "    tf.keras.layers.Dense(50, activation='relu'),\n",
    "    tf.keras.layers.Dense(2, activation=activation)\n",
    "])\n",
    "model.compile(loss=loss, optimizer=optimizer, metrics=['accuracy'])\n",
    "\n",
    "#Print Model Summary \n",
    "print(model.summary())\n",
    "\n",
    "history = model.fit(padded_train, y_train, batch_size=32, epochs=num_epochs, \n",
    "                    validation_split=0.2, callbacks=[early_stopping_monitor], verbose=True)"
   ]
  },
  {
   "cell_type": "code",
   "execution_count": 172,
   "id": "fb392701",
   "metadata": {},
   "outputs": [
    {
     "name": "stdout",
     "output_type": "stream",
     "text": [
      "Test loss: 0.40722519159317017 / Test accuracy: 0.7950000166893005\n"
     ]
    }
   ],
   "source": [
    "#Verification of model accuracy (Festus, 2022)\n",
    "score = model.evaluate(padded_test, y_test, verbose=0)\n",
    "print(f'Test loss: {score[0]} / Test accuracy: {score[1]}')"
   ]
  },
  {
   "cell_type": "code",
   "execution_count": 173,
   "id": "b4852f71",
   "metadata": {},
   "outputs": [
    {
     "data": {
      "image/png": "[encoded data removed]",
      "text/plain": [
       "<Figure size 432x288 with 1 Axes>"
      ]
     },
     "metadata": {
      "needs_background": "light"
     },
     "output_type": "display_data"
    },
    {
     "data": {
      "image/png": "[encoded data removed]",
      "text/plain": [
       "<Figure size 432x288 with 1 Axes>"
      ]
     },
     "metadata": {
      "needs_background": "light"
     },
     "output_type": "display_data"
    }
   ],
   "source": [
    "#Visulization of summary history for accuracy (Brownlee, 2016)\n",
    "plt.plot(history.history['accuracy'])\n",
    "plt.plot(history.history['val_accuracy'])\n",
    "plt.title('model accuracy')\n",
    "plt.ylabel('accuracy')\n",
    "plt.xlabel('epoch')\n",
    "plt.legend(['train', 'test'], loc='upper left')\n",
    "plt.show()\n",
    "#Visulization of summary history for loss\n",
    "plt.plot(history.history['loss'])\n",
    "plt.plot(history.history['val_loss'])\n",
    "plt.title('model loss')\n",
    "plt.ylabel('loss')\n",
    "plt.xlabel('epoch')\n",
    "plt.legend(['train', 'test'], loc='upper left')\n",
    "plt.show()"
   ]
  },
  {
   "cell_type": "code",
   "execution_count": 174,
   "id": "4fa74b90",
   "metadata": {},
   "outputs": [
    {
     "name": "stdout",
     "output_type": "stream",
     "text": [
      "7/7 [==============================] - 0s 3ms/step\n"
     ]
    }
   ],
   "source": [
    "#Perform Predictions on the model\n",
    "predictions = model.predict(padded_test)"
   ]
  },
  {
   "cell_type": "code",
   "execution_count": 175,
   "id": "e39bb58b",
   "metadata": {},
   "outputs": [
    {
     "name": "stdout",
     "output_type": "stream",
     "text": [
      "Predicted Review Text:  however keypad tinny sometimes reach wrong button \n",
      "\n",
      "Predicted:  negative review\n",
      "Actual:  negative review\n"
     ]
    }
   ],
   "source": [
    "#Verify the predicted sentiment by comparing to actual label from test date\n",
    "L = 9 \n",
    "print('Predicted Review Text: ', X_test[L], '\\n')\n",
    "print('Predicted: ', 'negative' if predictions[L][0] != 0.5 else 'positive', 'review')\n",
    "print('Actual: ', 'negative' if y_test[L] == 0 else 'positive', 'review')"
   ]
  },
  {
   "cell_type": "code",
   "execution_count": 176,
   "id": "9b53e0dd",
   "metadata": {},
   "outputs": [],
   "source": [
    "#Save the model\n",
    "model.save('model.h5')"
   ]
  }
 ],
 "metadata": {
  "kernelspec": {
   "display_name": "Python 3 (ipykernel)",
   "language": "python",
   "name": "python3"
  },
  "language_info": {
   "codemirror_mode": {
    "name": "ipython",
    "version": 3
   },
   "file_extension": ".py",
   "mimetype": "text/x-python",
   "name": "python",
   "nbconvert_exporter": "python",
   "pygments_lexer": "ipython3",
   "version": "3.9.12"
  }
 },
 "nbformat": 4,
 "nbformat_minor": 5
}
